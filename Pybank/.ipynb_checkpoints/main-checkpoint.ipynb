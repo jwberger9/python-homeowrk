{
 "cells": [
  {
   "cell_type": "code",
   "execution_count": 4,
   "metadata": {},
   "outputs": [],
   "source": [
    "# load data set into worlsheet\n",
    "import pandas as pd"
   ]
  },
  {
   "cell_type": "code",
   "execution_count": 5,
   "metadata": {},
   "outputs": [],
   "source": [
    "\n",
    "data = pd.read_csv(r\"C:\\Users\\jwber\\Desktop\\cu-nyc-fin-pt-09-2020-u-c\\Homework\\02-Python\\Instructions\\PyBank\\Resources\\budget_data.csv\")"
   ]
  },
  {
   "cell_type": "code",
   "execution_count": 6,
   "metadata": {},
   "outputs": [
    {
     "name": "stdout",
     "output_type": "stream",
     "text": [
      "        Date  Profit/Losses\n",
      "0   Jan-2010         867884\n",
      "1   Feb-2010         984655\n",
      "2   Mar-2010         322013\n",
      "3   Apr-2010         -69417\n",
      "4   May-2010         310503\n",
      "..       ...            ...\n",
      "81  Oct-2016         102685\n",
      "82  Nov-2016         795914\n",
      "83  Dec-2016          60988\n",
      "84  Jan-2017         138230\n",
      "85  Feb-2017         671099\n",
      "\n",
      "[86 rows x 2 columns]\n"
     ]
    }
   ],
   "source": [
    "print(data)"
   ]
  },
  {
   "cell_type": "code",
   "execution_count": 7,
   "metadata": {},
   "outputs": [
    {
     "name": "stdout",
     "output_type": "stream",
     "text": [
      "86\n"
     ]
    }
   ],
   "source": [
    "# Variables\n",
    "total_months = print(len(data))\n",
    "total_profit = 0\n",
    "total_losses = 0\n",
    "total_pnl = total_profit + total_losses\n",
    "average_pnl = 0\n",
    "minimum = 0\n",
    "maximum = 0"
   ]
  },
  {
   "cell_type": "code",
   "execution_count": 10,
   "metadata": {},
   "outputs": [
    {
     "name": "stdout",
     "output_type": "stream",
     "text": [
      "867884\n",
      "984655\n",
      "322013\n",
      "-69417\n",
      "310503\n",
      "522857\n",
      "1033096\n",
      "604885\n",
      "-216386\n",
      "477532\n",
      "893810\n",
      "-80353\n",
      "779806\n",
      "-335203\n",
      "697845\n",
      "793163\n",
      "485070\n",
      "584122\n",
      "62729\n",
      "668179\n",
      "899906\n",
      "834719\n",
      "132003\n",
      "309978\n",
      "-755566\n",
      "1170593\n",
      "252788\n",
      "1151518\n",
      "817256\n",
      "570757\n",
      "506702\n",
      "-1022534\n",
      "475062\n",
      "779976\n",
      "144175\n",
      "542494\n",
      "359333\n",
      "321469\n",
      "67780\n",
      "471435\n",
      "565603\n",
      "872480\n",
      "789480\n",
      "999942\n",
      "-1196225\n",
      "268997\n",
      "-687986\n",
      "1150461\n",
      "682458\n",
      "617856\n",
      "824098\n",
      "581943\n",
      "132864\n",
      "448062\n",
      "689161\n",
      "800701\n",
      "1166643\n",
      "947333\n",
      "578668\n",
      "988505\n",
      "1139715\n",
      "1029471\n",
      "687533\n",
      "-524626\n",
      "158620\n",
      "87795\n",
      "423389\n",
      "840723\n",
      "568529\n",
      "332067\n",
      "989499\n",
      "778237\n",
      "650000\n",
      "-1100387\n",
      "-174946\n",
      "757143\n",
      "445709\n",
      "712961\n",
      "-1163797\n",
      "569899\n",
      "768450\n",
      "102685\n",
      "795914\n",
      "60988\n",
      "138230\n",
      "671099\n"
     ]
    }
   ],
   "source": [
    "# calculate net PnLfor i in data\n",
    "for i in data.values:\n",
    "    print(i[1])\n",
    "\n"
   ]
  },
  {
   "cell_type": "code",
   "execution_count": null,
   "metadata": {},
   "outputs": [],
   "source": []
  },
  {
   "cell_type": "code",
   "execution_count": null,
   "metadata": {},
   "outputs": [],
   "source": []
  }
 ],
 "metadata": {
  "kernelspec": {
   "display_name": "Python 3",
   "language": "python",
   "name": "python3"
  },
  "language_info": {
   "codemirror_mode": {
    "name": "ipython",
    "version": 3
   },
   "file_extension": ".py",
   "mimetype": "text/x-python",
   "name": "python",
   "nbconvert_exporter": "python",
   "pygments_lexer": "ipython3",
   "version": "3.8.3"
  }
 },
 "nbformat": 4,
 "nbformat_minor": 4
}
